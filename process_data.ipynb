{
 "cells": [
  {
   "cell_type": "code",
   "execution_count": 24,
   "metadata": {},
   "outputs": [],
   "source": [
    "import pandas as pd\n",
    "import os\n",
    "\n",
    "\n",
    "\n",
    "path = os.getcwd()\n",
    "df = pd.read_csv(path+'\\csv\\champions_by_row.csv',sep=';')"
   ]
  },
  {
   "cell_type": "code",
   "execution_count": 87,
   "metadata": {},
   "outputs": [
    {
     "name": "stdout",
     "output_type": "stream",
     "text": [
      "0       Justicar Aatrox\n",
      "1                   NaN\n",
      "2                   NaN\n",
      "3                   NaN\n",
      "4                   NaN\n",
      "             ...       \n",
      "6915                NaN\n",
      "6916                NaN\n",
      "6917                NaN\n",
      "6918                NaN\n",
      "6919                NaN\n",
      "Name: data__|__skins__name01, Length: 6920, dtype: object\n"
     ]
    }
   ],
   "source": [
    "# SKINS\n",
    "\n",
    "skins = df['data__|__skins__name']\n",
    "skin_cnt = 1\n",
    "champ_cnt = -1\n",
    "\n",
    "for skin in skins:\n",
    "    if skin == 'default':\n",
    "        champ_cnt += 1\n",
    "        #print('DEFAULT')\n",
    "        continue\n",
    "    elif skin == 'NaN':\n",
    "        skin_cnt = 1\n",
    "        continue\n",
    "    else:\n",
    "        try:\n",
    "            #print('Skin: ' + skin + \" NUM: \" + str(skin_cnt))\n",
    "            \n",
    "            string = skin + \"..\" #to cause exception if not string\n",
    "            \n",
    "\n",
    "        except:\n",
    "            skin_cnt = 1\n",
    "            continue\n",
    "            \n",
    "        df.iloc[champ_cnt*44,skin_cnt+3] = skin\n",
    "        #print(\"Skin: \" + str(df.iloc[champ_cnt*44,skin_cnt+3]) + \" CHAMP nr: \" + str(champ_cnt) + \" SKIN nr: \" + str(skin_cnt))\n",
    "        skin_cnt+=1\n",
    "            \n",
    "print(df['data__|__skins__name01']) "
   ]
  },
  {
   "cell_type": "code",
   "execution_count": 78,
   "metadata": {},
   "outputs": [],
   "source": [
    "\n",
    "\n",
    "\n",
    "df.to_csv(path+'\\csv\\champions_by_row_cleaned.csv')\n"
   ]
  },
  {
   "cell_type": "code",
   "execution_count": null,
   "metadata": {},
   "outputs": [],
   "source": []
  }
 ],
 "metadata": {
  "kernelspec": {
   "display_name": "Python 3",
   "language": "python",
   "name": "python3"
  },
  "language_info": {
   "codemirror_mode": {
    "name": "ipython",
    "version": 3
   },
   "file_extension": ".py",
   "mimetype": "text/x-python",
   "name": "python",
   "nbconvert_exporter": "python",
   "pygments_lexer": "ipython3",
   "version": "3.8.3"
  }
 },
 "nbformat": 4,
 "nbformat_minor": 4
}
