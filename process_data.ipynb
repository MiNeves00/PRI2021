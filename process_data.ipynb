{
 "cells": [
  {
   "cell_type": "code",
   "execution_count": 125,
   "metadata": {},
   "outputs": [],
   "source": [
    "import pandas as pd\n",
    "import os\n",
    "\n",
    "\n",
    "\n",
    "path = os.getcwd()\n",
    "df = pd.read_csv(path+'\\csv\\champions_by_row.csv',sep=';')"
   ]
  },
  {
   "cell_type": "code",
   "execution_count": 127,
   "metadata": {},
   "outputs": [
    {
     "name": "stdout",
     "output_type": "stream",
     "text": [
      "0       Justicar Aatrox\n",
      "1                   NaN\n",
      "2                   NaN\n",
      "3                   NaN\n",
      "4                   NaN\n",
      "             ...       \n",
      "6905                NaN\n",
      "6906                NaN\n",
      "6907                NaN\n",
      "6908                NaN\n",
      "6909                NaN\n",
      "Name: data__|__skins__name01, Length: 6910, dtype: object\n",
      "0      Mecha Aatrox\n",
      "1               NaN\n",
      "2               NaN\n",
      "3               NaN\n",
      "4               NaN\n",
      "5               NaN\n",
      "6               NaN\n",
      "7               NaN\n",
      "8               NaN\n",
      "9               NaN\n",
      "10              NaN\n",
      "11              NaN\n",
      "12              NaN\n",
      "13              NaN\n",
      "14              NaN\n",
      "15              NaN\n",
      "16              NaN\n",
      "17              NaN\n",
      "18              NaN\n",
      "19              NaN\n",
      "20              NaN\n",
      "21              NaN\n",
      "22              NaN\n",
      "23              NaN\n",
      "24              NaN\n",
      "25              NaN\n",
      "26              NaN\n",
      "27              NaN\n",
      "28              NaN\n",
      "29              NaN\n",
      "30              NaN\n",
      "31              NaN\n",
      "32              NaN\n",
      "33              NaN\n",
      "34              NaN\n",
      "35              NaN\n",
      "36              NaN\n",
      "37              NaN\n",
      "38              NaN\n",
      "39              NaN\n",
      "40              NaN\n",
      "41              NaN\n",
      "42              NaN\n",
      "43              NaN\n",
      "44    Midnight Ahri\n",
      "45              NaN\n",
      "46              NaN\n",
      "47              NaN\n",
      "48              NaN\n",
      "49              NaN\n",
      "Name: data__|__skins__name02, dtype: object\n"
     ]
    }
   ],
   "source": [
    "# SKINS\n",
    "\n",
    "skins = df['data__|__skins__name']\n",
    "skin_cnt = 1\n",
    "champ_cnt = -1\n",
    "\n",
    "for skin in skins:\n",
    "    if skin == 'default':\n",
    "        champ_cnt += 1\n",
    "        #print('DEFAULT')\n",
    "        continue\n",
    "    else:\n",
    "        if not isinstance(skin, str):\n",
    "            skin_cnt = 1\n",
    "            continue\n",
    "        #print('Skin: ' + skin + \" NUM: \" + str(skin_cnt))\n",
    "        #df.iloc[champ_cnt*44,skin_cnt+3] = \"OLA\"\n",
    "        #print(\"CELL: \" + df.iloc[champ_cnt*44,skin_cnt+3])\n",
    "        df.iloc[champ_cnt*44,skin_cnt+3] = skin\n",
    "        #print(\"Skin: \" + str(df.iloc[champ_cnt*44,skin_cnt+3]) + \" CHAMP nr: \" + str(champ_cnt) + \" SKIN nr: \" + str(skin_cnt))\n",
    "        skin_cnt+=1\n",
    "            \n",
    "print(df['data__|__skins__name01']) \n",
    "print(df.iloc[0:50,5]) "
   ]
  },
  {
   "cell_type": "code",
   "execution_count": 128,
   "metadata": {},
   "outputs": [],
   "source": [
    "\n",
    "\n",
    "\n",
    "df.to_csv(path+'\\csv\\champions_by_row_cleaned.csv')\n"
   ]
  },
  {
   "cell_type": "code",
   "execution_count": null,
   "metadata": {},
   "outputs": [],
   "source": []
  }
 ],
 "metadata": {
  "kernelspec": {
   "display_name": "Python 3",
   "language": "python",
   "name": "python3"
  },
  "language_info": {
   "codemirror_mode": {
    "name": "ipython",
    "version": 3
   },
   "file_extension": ".py",
   "mimetype": "text/x-python",
   "name": "python",
   "nbconvert_exporter": "python",
   "pygments_lexer": "ipython3",
   "version": "3.8.3"
  }
 },
 "nbformat": 4,
 "nbformat_minor": 4
}
